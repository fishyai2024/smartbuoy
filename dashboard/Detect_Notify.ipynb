{
 "cells": [
  {
   "cell_type": "code",
   "execution_count": 2,
   "id": "74f7b7e3-8475-4db9-994e-20fc63ce32ce",
   "metadata": {
    "tags": []
   },
   "outputs": [
    {
     "name": "stdout",
     "output_type": "stream",
     "text": [
      "Out-of-range data detected:\n",
      "\n",
      " id,value  value\n",
      "        2    105\n",
      "        4      5\n",
      "        6    200\n",
      "Email sent successfully!\n"
     ]
    }
   ],
   "source": [
    "import pandas as pd\n",
    "import smtplib\n",
    "from email.mime.text import MIMEText\n",
    "from email.mime.multipart import MIMEMultipart\n",
    "\n",
    "# Email configuration\n",
    "SMTP_SERVER = 'smtp.gmail.com'           # SMTP server (Gmail example)\n",
    "SMTP_PORT = 587                          # Port for TLS\n",
    "EMAIL_ADDRESS = 'energybotsfll2023@gmail.com'   # Sender's email\n",
    "EMAIL_PASSWORD = 'otfl lzka yiio hwcm'         # Sender's email password\n",
    "RECIPIENT_EMAIL = 'ksnraju@gmail.com'  # Recipient's email\n",
    "\n",
    "# Function to send email\n",
    "def send_email(subject, body):\n",
    "    try:\n",
    "        # Set up the MIME email\n",
    "        message = MIMEMultipart()\n",
    "        message['From'] = EMAIL_ADDRESS\n",
    "        message['To'] = RECIPIENT_EMAIL\n",
    "        message['Subject'] = subject\n",
    "        message.attach(MIMEText(body, 'plain'))\n",
    "        \n",
    "        # Connect to the SMTP server and send the email\n",
    "        with smtplib.SMTP(SMTP_SERVER, SMTP_PORT) as server:\n",
    "            server.starttls()  # Upgrade to a secure connection\n",
    "            server.login(EMAIL_ADDRESS, EMAIL_PASSWORD)\n",
    "            server.send_message(message)\n",
    "        print(\"Email sent successfully!\")\n",
    "    except Exception as error:\n",
    "        print(\"Failed to send email:\", str(error))\n",
    "\n",
    "# Function to check data range\n",
    "def check_out_of_range(file_path, column_name, lower_bound, upper_bound):\n",
    "    try:\n",
    "        # Read data from file\n",
    "        data = pd.read_csv(file_path)\n",
    "        \n",
    "        if column_name not in data.columns:\n",
    "            print(f\"Column '{column_name}' not found in the file.\")\n",
    "            return\n",
    "        \n",
    "        # Check for out-of-range values\n",
    "        out_of_range = data[(data[column_name] < lower_bound) | (data[column_name] > upper_bound)]\n",
    "        \n",
    "        if not out_of_range.empty:\n",
    "            message = f\"Out-of-range data detected:\\n\\n{out_of_range.to_string(index=False)}\"\n",
    "            print(message)\n",
    "            send_email(\n",
    "                subject=\"Alert: Out-of-Range Data Detected\",\n",
    "                body=message\n",
    "            )\n",
    "        else:\n",
    "            print(\"All data values are within range.\")\n",
    "    except Exception as e:\n",
    "        print(\"Error reading file or processing data:\", str(e))\n",
    "\n",
    "# Example usage\n",
    "file_path = 'C:\\FLL\\data.csv'  # Path to your file\n",
    "column_name = 'value'   # Name of the column to check\n",
    "lower_bound = 10        # Minimum acceptable value\n",
    "upper_bound = 100       # Maximum acceptable value\n",
    "\n",
    "check_out_of_range(file_path, column_name, lower_bound, upper_bound)"
   ]
  },
  {
   "cell_type": "code",
   "execution_count": 5,
   "id": "f3cb5fd0-51e6-4abb-9186-94d7ac870336",
   "metadata": {
    "tags": []
   },
   "outputs": [],
   "source": [
    "import smtplib"
   ]
  },
  {
   "cell_type": "code",
   "execution_count": null,
   "id": "84ed737e-89c3-4ff0-a90d-dc60a104ab07",
   "metadata": {},
   "outputs": [],
   "source": []
  }
 ],
 "metadata": {
  "kernelspec": {
   "display_name": "Python 3 (ipykernel)",
   "language": "python",
   "name": "python3"
  },
  "language_info": {
   "codemirror_mode": {
    "name": "ipython",
    "version": 3
   },
   "file_extension": ".py",
   "mimetype": "text/x-python",
   "name": "python",
   "nbconvert_exporter": "python",
   "pygments_lexer": "ipython3",
   "version": "3.11.7"
  }
 },
 "nbformat": 4,
 "nbformat_minor": 5
}
