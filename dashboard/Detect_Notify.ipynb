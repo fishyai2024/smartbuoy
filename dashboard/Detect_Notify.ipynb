import pandas as pd
import smtplib
from email.mime.text import MIMEText
from email.mime.multipart import MIMEMultipart

# Email configuration
SMTP_SERVER = 'smtp.gmail.com'           # SMTP server (Gmail example)
SMTP_PORT = 587                          # Port for TLS
EMAIL_ADDRESS = 'energybotsfll2023@gmail.com'   # Sender's email
EMAIL_PASSWORD = 'otfl lzka yiio hwcm'         # Sender's email password
RECIPIENT_EMAIL = 'ksnraju@gmail.com'  # Recipient's email

# Function to send email
def send_email(subject, body):
    try:
        # Set up the MIME email
        message = MIMEMultipart()
        message['From'] = EMAIL_ADDRESS
        message['To'] = RECIPIENT_EMAIL
        message['Subject'] = subject
        message.attach(MIMEText(body, 'plain'))
        
        # Connect to the SMTP server and send the email
        with smtplib.SMTP(SMTP_SERVER, SMTP_PORT) as server:
            server.starttls()  # Upgrade to a secure connection
            server.login(EMAIL_ADDRESS, EMAIL_PASSWORD)
            server.send_message(message)
        print("Email sent successfully!")
    except Exception as error:
        print("Failed to send email:", str(error))

# Function to check data range
def check_out_of_range(file_path, column_name, lower_bound, upper_bound):
    try:
        # Read data from file
        data = pd.read_csv(file_path)
        
        if column_name not in data.columns:
            print(f"Column '{column_name}' not found in the file.")
            return
        
        # Check for out-of-range values
        out_of_range = data[(data[column_name] < lower_bound) | (data[column_name] > upper_bound)]
        
        if not out_of_range.empty:
            message = f"Out-of-range data detected:\n\n{out_of_range.to_string(index=False)}"
            print(message)
            send_email(
                subject="Alert: Out-of-Range Data Detected",
                body=message
            )
        else:
            print("All data values are within range.")
    except Exception as e:
        print("Error reading file or processing data:", str(e))

# Example usage
file_path = 'C:\FLL\data.csv'  # Path to your file
column_name = 'value'   # Name of the column to check
lower_bound = 10        # Minimum acceptable value
upper_bound = 100       # Maximum acceptable value

check_out_of_range(file_path, column_name, lower_bound, upper_bound)
